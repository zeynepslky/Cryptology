{
 "cells": [
  {
   "cell_type": "code",
   "execution_count": 23,
   "id": "f23df448-4ab5-45e2-b829-d8207268d868",
   "metadata": {},
   "outputs": [
    {
     "name": "stdin",
     "output_type": "stream",
     "text": [
      "Düz metni girin:  merhaba dünya! 123\n",
      "Kaydırma miktarını girin:  5\n"
     ]
    },
    {
     "name": "stdout",
     "output_type": "stream",
     "text": [
      "Şifrelenmiş metin: qıülefe hzrçe! 678\n"
     ]
    }
   ],
   "source": [
    "\"\"\"\n",
    "Kullanıcıdan düz metin ve kaydırma miktarı alarak, şifreli metni üretir.\n",
    "\"\"\"\n",
    "\n",
    "letters = 'abcçdefgğhıijklmnoöpqrsştuüvwxyz'\n",
    "\n",
    "def encrypt(plaintext, shift):\n",
    "    result = \"\"\n",
    "\n",
    "    for char in plaintext.lower():\n",
    "        if char in letters:\n",
    "            result += letters[(letters.index(char) + shift) % len(letters)]\n",
    "\n",
    "        elif char.isdigit():\n",
    "            result += chr((ord(char) + shift - 48) % 123 + 48)        \n",
    "        else:\n",
    "            result += char\n",
    "\n",
    "    return result\n",
    "\n",
    "# Kullanımı\n",
    "\n",
    "plaintext = input(\"Düz metni girin: \")\n",
    "shift = int(input(\"Kaydırma miktarını girin: \"))\n",
    "\n",
    "ciphertext = encrypt(plaintext, shift)\n",
    "\n",
    "print(\"Şifrelenmiş metin:\", ciphertext)"
   ]
  },
  {
   "cell_type": "code",
   "execution_count": null,
   "id": "20d40d17-3ab8-4e14-8f27-a743b6e64a8e",
   "metadata": {},
   "outputs": [],
   "source": []
  }
 ],
 "metadata": {
  "kernelspec": {
   "display_name": "Python 3 (ipykernel)",
   "language": "python",
   "name": "python3"
  },
  "language_info": {
   "codemirror_mode": {
    "name": "ipython",
    "version": 3
   },
   "file_extension": ".py",
   "mimetype": "text/x-python",
   "name": "python",
   "nbconvert_exporter": "python",
   "pygments_lexer": "ipython3",
   "version": "3.11.7"
  }
 },
 "nbformat": 4,
 "nbformat_minor": 5
}
