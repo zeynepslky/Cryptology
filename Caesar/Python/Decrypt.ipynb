{
 "cells": [
  {
   "cell_type": "code",
   "execution_count": 5,
   "id": "cd894850-09dc-4e1c-8ca4-814eb65e35c4",
   "metadata": {},
   "outputs": [
    {
     "name": "stdin",
     "output_type": "stream",
     "text": [
      "Şifreli metni girin:  qıülefe hzrçe! 678\n",
      "Kaydırma miktarını girin:  5\n"
     ]
    },
    {
     "name": "stdout",
     "output_type": "stream",
     "text": [
      "Düz metin: merhaba dünya! 123\n"
     ]
    }
   ],
   "source": [
    "\"\"\"\n",
    "Kullanıcıdan şifreli metin ve kaydırma miktarı alarak, düz metni üretir.\n",
    "\"\"\"\n",
    "\n",
    "letters = 'abcçdefgğhıijklmnoöpqrsştuüvwxyz'\n",
    "\n",
    "def decrypt(ciphertext, shift):\n",
    "    result = \"\"\n",
    "    for char in ciphertext.lower():\n",
    "        if char in letters:\n",
    "            result += letters[(letters.index(char) - shift) % len(letters)]\n",
    "        elif char.isdigit():\n",
    "            result += chr((ord(char) - shift - 48) % 123 + 48)\n",
    "        else:\n",
    "            result += char\n",
    "    return result\n",
    "\n",
    "# Kullanımı\n",
    "ciphertext = input(\"Şifreli metni girin: \")\n",
    "shift = int(input(\"Kaydırma miktarını girin: \"))\n",
    "\n",
    "plaintext = decrypt(ciphertext, shift)\n",
    "\n",
    "print(\"Düz metin:\", plaintext)"
   ]
  },
  {
   "cell_type": "code",
   "execution_count": null,
   "id": "ba1fe5a4-e335-4319-838c-ac8dbb12c307",
   "metadata": {},
   "outputs": [],
   "source": []
  }
 ],
 "metadata": {
  "kernelspec": {
   "display_name": "Python 3 (ipykernel)",
   "language": "python",
   "name": "python3"
  },
  "language_info": {
   "codemirror_mode": {
    "name": "ipython",
    "version": 3
   },
   "file_extension": ".py",
   "mimetype": "text/x-python",
   "name": "python",
   "nbconvert_exporter": "python",
   "pygments_lexer": "ipython3",
   "version": "3.11.7"
  }
 },
 "nbformat": 4,
 "nbformat_minor": 5
}
