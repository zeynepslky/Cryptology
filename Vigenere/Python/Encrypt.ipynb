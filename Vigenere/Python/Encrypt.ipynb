{
 "cells": [
  {
   "cell_type": "code",
   "execution_count": 5,
   "id": "fea74601-6d67-4116-9e38-5fa2f7ed4531",
   "metadata": {},
   "outputs": [
    {
     "name": "stdin",
     "output_type": "stream",
     "text": [
      "Metni girin:  Merhaba Dünya! 123\n",
      "Anahtar kelimeyi girin:  hello\n"
     ]
    },
    {
     "name": "stdout",
     "output_type": "stream",
     "text": [
      "Şifrelenmiş metin: Ui5toie Öçü3l! a7g\n"
     ]
    }
   ],
   "source": [
    "def vigenere_encrypt(message, key):\n",
    "    \"\"\"\n",
    "    Vigenère şifreleme işlemi gerçekleştirir.\n",
    "    \n",
    "    Parametreler:\n",
    "    message (str): Şifrelenecek metin.\n",
    "    key (str): Anahtar kelime.\n",
    "    \n",
    "    Döndürülen değer:\n",
    "    str: Şifrelenmiş metin.\n",
    "    \"\"\"\n",
    "    \n",
    "    # Türkçe karakterler ve sayılar da dahil olmak üzere tüm karakterlerin listesi\n",
    "    alphabet = 'ABCÇDEFGĞHIİJKLMNOÖPRSŞTUÜVYZ0123456789'\n",
    "    \n",
    "    # Mesaj ve anahtar kelimeyi aynı uzunluğa getirme\n",
    "    key = (key * (len(message) // len(key) + 1))[:len(message)]\n",
    "    \n",
    "    encrypted_text = ''\n",
    "    for i, char in enumerate(message):\n",
    "        if char.upper() in alphabet:\n",
    "            # Karakterin indisini bul\n",
    "            char_index = alphabet.index(char.upper())\n",
    "            key_index = alphabet.index(key[i].upper())\n",
    "            \n",
    "            # Şifreleme\n",
    "            new_index = (char_index + key_index) % len(alphabet)\n",
    "            \n",
    "            # Yeni karakteri ekle\n",
    "            if char.isupper():\n",
    "                encrypted_text += alphabet[new_index]\n",
    "            else:\n",
    "                encrypted_text += alphabet[new_index].lower()\n",
    "        else:\n",
    "            # Alfabe dışındaki karakterleri olduğu gibi bırak\n",
    "            encrypted_text += char\n",
    "    \n",
    "    return encrypted_text\n",
    "\n",
    "# Kullanım örneği\n",
    "\n",
    "message = input(\"Metni girin: \")\n",
    "key = input(\"Anahtar kelimeyi girin: \")\n",
    "\n",
    "encrypted_text = vigenere_encrypt(message, key)\n",
    "print(\"Şifrelenmiş metin:\", encrypted_text)"
   ]
  },
  {
   "cell_type": "code",
   "execution_count": null,
   "id": "3d6f7c95-0ae5-44ff-a1f5-451ad0c87ee7",
   "metadata": {},
   "outputs": [],
   "source": []
  }
 ],
 "metadata": {
  "kernelspec": {
   "display_name": "Python 3 (ipykernel)",
   "language": "python",
   "name": "python3"
  },
  "language_info": {
   "codemirror_mode": {
    "name": "ipython",
    "version": 3
   },
   "file_extension": ".py",
   "mimetype": "text/x-python",
   "name": "python",
   "nbconvert_exporter": "python",
   "pygments_lexer": "ipython3",
   "version": "3.11.7"
  }
 },
 "nbformat": 4,
 "nbformat_minor": 5
}
