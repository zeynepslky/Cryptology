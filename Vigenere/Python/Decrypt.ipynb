{
 "cells": [
  {
   "cell_type": "code",
   "execution_count": 1,
   "id": "921ede09-3ffb-4ab5-a9d0-3b04f3748f6d",
   "metadata": {},
   "outputs": [
    {
     "name": "stdin",
     "output_type": "stream",
     "text": [
      "Metni girin:  Ui5toie Öçü3l! a7g\n",
      "Anahtar kelimeyi girin:  hello\n"
     ]
    },
    {
     "name": "stdout",
     "output_type": "stream",
     "text": [
      "Deşifrelenmiş metin: Merhaba Dünya! 123\n"
     ]
    }
   ],
   "source": [
    "def vigenere_decrypt(encrypted_text, key):\n",
    "    \"\"\"\n",
    "    Vigenère deşifreleme işlemi gerçekleştirir.\n",
    "    \n",
    "    Parametreler:\n",
    "    encrypted_text (str): Deşifrelenecek metin.\n",
    "    key (str): Anahtar kelime.\n",
    "    \n",
    "    Döndürülen değer:\n",
    "    str: Deşifrelenmiş metin.\n",
    "    \"\"\"\n",
    "    \n",
    "    # Türkçe karakterler ve sayılar da dahil olmak üzere tüm karakterlerin listesi\n",
    "    alphabet = 'ABCÇDEFGĞHIİJKLMNOÖPRSŞTUÜVYZ0123456789'\n",
    "    \n",
    "    # Mesaj ve anahtar kelimeyi aynı uzunluğa getir\n",
    "    key = (key * (len(encrypted_text) // len(key) + 1))[:len(encrypted_text)]\n",
    "    \n",
    "    decrypted_text = ''\n",
    "    for i, char in enumerate(encrypted_text):\n",
    "        if char.upper() in alphabet:\n",
    "            # Karakterin indisini bul\n",
    "            char_index = alphabet.index(char.upper())\n",
    "            key_index = alphabet.index(key[i].upper())\n",
    "            \n",
    "            # Deşifreleme\n",
    "            new_index = (char_index - key_index) % len(alphabet)\n",
    "            \n",
    "            # Yeni karakteri ekle\n",
    "            if char.isupper():\n",
    "                decrypted_text += alphabet[new_index]\n",
    "            else:\n",
    "                decrypted_text += alphabet[new_index].lower()\n",
    "        else:\n",
    "            # Alfabe dışındaki karakterleri olduğu gibi bırak\n",
    "            decrypted_text += char\n",
    "    \n",
    "    return decrypted_text\n",
    "\n",
    "# Kullanım örneği\n",
    "\n",
    "message = input(\"Metni girin: \")\n",
    "key = input(\"Anahtar kelimeyi girin: \")\n",
    "\n",
    "decrypted_text = vigenere_decrypt(message, key)\n",
    "print(\"Deşifrelenmiş metin:\", decrypted_text)\n"
   ]
  },
  {
   "cell_type": "code",
   "execution_count": null,
   "id": "2840bdf0-a444-45a8-84fb-7b96e38b0160",
   "metadata": {},
   "outputs": [],
   "source": []
  }
 ],
 "metadata": {
  "kernelspec": {
   "display_name": "Python 3 (ipykernel)",
   "language": "python",
   "name": "python3"
  },
  "language_info": {
   "codemirror_mode": {
    "name": "ipython",
    "version": 3
   },
   "file_extension": ".py",
   "mimetype": "text/x-python",
   "name": "python",
   "nbconvert_exporter": "python",
   "pygments_lexer": "ipython3",
   "version": "3.11.7"
  }
 },
 "nbformat": 4,
 "nbformat_minor": 5
}
